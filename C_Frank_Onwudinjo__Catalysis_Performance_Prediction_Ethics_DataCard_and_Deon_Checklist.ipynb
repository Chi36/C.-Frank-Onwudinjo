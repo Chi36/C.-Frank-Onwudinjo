{
  "nbformat": 4,
  "nbformat_minor": 0,
  "metadata": {
    "colab": {
      "provenance": [],
      "authorship_tag": "ABX9TyNSwPU7zseZxWECHHkEJ9H1",
      "include_colab_link": true
    },
    "kernelspec": {
      "name": "python3",
      "display_name": "Python 3"
    },
    "language_info": {
      "name": "python"
    }
  },
  "cells": [
    {
      "cell_type": "markdown",
      "metadata": {
        "id": "view-in-github",
        "colab_type": "text"
      },
      "source": [
        "<a href=\"https://colab.research.google.com/github/Chi36/C.-Frank-Onwudinjo/blob/main/C_Frank_Onwudinjo__Catalysis_Performance_Prediction_Ethics_DataCard_and_Deon_Checklist.ipynb\" target=\"_parent\"><img src=\"https://colab.research.google.com/assets/colab-badge.svg\" alt=\"Open In Colab\"/></a>"
      ]
    },
    {
      "cell_type": "markdown",
      "source": [
        "#Ethical Checklist with Deon\n",
        "\n"
      ],
      "metadata": {
        "id": "pl3XvNCh_o-x"
      }
    },
    {
      "cell_type": "code",
      "execution_count": 1,
      "metadata": {
        "colab": {
          "base_uri": "https://localhost:8080/"
        },
        "id": "Tohr5xUe_R3R",
        "outputId": "b6f279ac-fdc5-4fe5-ac65-b4585a0f040a"
      },
      "outputs": [
        {
          "output_type": "stream",
          "name": "stdout",
          "text": [
            "Collecting deon\n",
            "  Downloading deon-0.3.0.tar.gz (26 kB)\n",
            "  Installing build dependencies ... \u001b[?25l\u001b[?25hdone\n",
            "  Getting requirements to build wheel ... \u001b[?25l\u001b[?25hdone\n",
            "  Preparing metadata (pyproject.toml) ... \u001b[?25l\u001b[?25hdone\n",
            "Requirement already satisfied: beautifulsoup4>=4.6.1 in /usr/local/lib/python3.10/dist-packages (from deon) (4.12.3)\n",
            "Requirement already satisfied: click>=6.7 in /usr/local/lib/python3.10/dist-packages (from deon) (8.1.7)\n",
            "Requirement already satisfied: pyyaml>=3.13 in /usr/local/lib/python3.10/dist-packages (from deon) (6.0.2)\n",
            "Requirement already satisfied: soupsieve>1.2 in /usr/local/lib/python3.10/dist-packages (from beautifulsoup4>=4.6.1->deon) (2.6)\n",
            "Building wheels for collected packages: deon\n",
            "  Building wheel for deon (pyproject.toml) ... \u001b[?25l\u001b[?25hdone\n",
            "  Created wheel for deon: filename=deon-0.3.0-py3-none-any.whl size=21350 sha256=d9f8175a26e31276f8372bac52b2e2f3138e29df4ec1d976de1688b1f0992f73\n",
            "  Stored in directory: /root/.cache/pip/wheels/65/8e/b0/6215389003a488515cb8287265bc54506a636bbf043d79c2b8\n",
            "Successfully built deon\n",
            "Installing collected packages: deon\n",
            "Successfully installed deon-0.3.0\n"
          ]
        }
      ],
      "source": [
        "!pip install deon"
      ]
    },
    {
      "cell_type": "markdown",
      "source": [
        "**Check available commands**"
      ],
      "metadata": {
        "id": "LfOjPylG_69u"
      }
    },
    {
      "cell_type": "code",
      "source": [
        "!deon --help"
      ],
      "metadata": {
        "colab": {
          "base_uri": "https://localhost:8080/"
        },
        "id": "kWlECjQ3_--d",
        "outputId": "79003f33-02ea-4d8f-83c9-faec613e0bde"
      },
      "execution_count": 2,
      "outputs": [
        {
          "output_type": "stream",
          "name": "stdout",
          "text": [
            "Usage: deon [OPTIONS]\n",
            "\n",
            "  Easily create an ethics checklist for your data science project.\n",
            "\n",
            "  The checklist will be printed to standard output by default. Use the\n",
            "  --output option to write to a file instead.\n",
            "\n",
            "Options:\n",
            "  -l, --checklist PATH  Override default checklist file with a path to a\n",
            "                        custom checklist.yml file.\n",
            "  -f, --format TEXT     Output format. Default is \"markdown\". Can be one of\n",
            "                        [ascii, html, jupyter, markdown, rmarkdown, rst].\n",
            "                        Ignored and file extension used if --output is passed.\n",
            "  -o, --output PATH     Output file path. Extension can be one of [.txt,\n",
            "                        .html, .ipynb, .md, .rmd, .rst]. The checklist is\n",
            "                        appended if the file exists.\n",
            "  -w, --overwrite       Overwrite output file if it exists. Default is False,\n",
            "                        which will append to existing file.\n",
            "  -m, --multicell       For use with Jupyter format only. Write checklist with\n",
            "                        multiple cells, one item per cell. Default is False,\n",
            "                        which will write the checklist in a single cell.\n",
            "  --help                Show this message and exit.\n"
          ]
        }
      ]
    },
    {
      "cell_type": "markdown",
      "source": [
        "**Create the Deon Checklist**"
      ],
      "metadata": {
        "id": "HcZuxHzYAIUW"
      }
    },
    {
      "cell_type": "code",
      "source": [
        "# Generate the checklist using the Deon CLI in markdown format\n",
        "!deon --output dry_reforming_methane_catalyst_performance_ethics_checklist.md --format markdown"
      ],
      "metadata": {
        "colab": {
          "base_uri": "https://localhost:8080/"
        },
        "id": "6i1pLD7eAKFb",
        "outputId": "8a1521ec-55ef-4880-f7cd-d74fc009f658"
      },
      "execution_count": 3,
      "outputs": [
        {
          "output_type": "stream",
          "name": "stdout",
          "text": [
            "Checklist successfully written to file dry_reforming_methane_catalyst_performance_ethics_checklist.md.\n"
          ]
        }
      ]
    },
    {
      "cell_type": "markdown",
      "source": [
        "**Read and Display the Checklist**"
      ],
      "metadata": {
        "id": "kMSA1WVcARfo"
      }
    },
    {
      "cell_type": "code",
      "source": [
        "# Read and display the generated checklist\n",
        "with open('dry_reforming_methane_catalyst_performance_ethics_checklist.md', 'r') as file:\n",
        "    checklist_content = file.read()\n",
        "\n",
        "print(checklist_content)"
      ],
      "metadata": {
        "colab": {
          "base_uri": "https://localhost:8080/"
        },
        "id": "DJ0v_REHATks",
        "outputId": "c96d7cdd-3b68-49d1-db3d-08a088945168"
      },
      "execution_count": 4,
      "outputs": [
        {
          "output_type": "stream",
          "name": "stdout",
          "text": [
            "# Data Science Ethics Checklist\n",
            "\n",
            "[![Deon badge](https://img.shields.io/badge/ethics%20checklist-deon-brightgreen.svg?style=popout-square)](http://deon.drivendata.org/)\n",
            "\n",
            "## A. Data Collection\n",
            " - [ ] **A.1 Informed consent**: If there are human subjects, have they given informed consent, where subjects affirmatively opt-in and have a clear understanding of the data uses to which they consent?\n",
            " - [ ] **A.2 Collection bias**: Have we considered sources of bias that could be introduced during data collection and survey design and taken steps to mitigate those?\n",
            " - [ ] **A.3 Limit PII exposure**: Have we considered ways to minimize exposure of personally identifiable information (PII) for example through anonymization or not collecting information that isn't relevant for analysis?\n",
            " - [ ] **A.4 Downstream bias mitigation**: Have we considered ways to enable testing downstream results for biased outcomes (e.g., collecting data on protected group status like race or gender)?\n",
            "\n",
            "## B. Data Storage\n",
            " - [ ] **B.1 Data security**: Do we have a plan to protect and secure data (e.g., encryption at rest and in transit, access controls on internal users and third parties, access logs, and up-to-date software)?\n",
            " - [ ] **B.2 Right to be forgotten**: Do we have a mechanism through which an individual can request their personal information be removed?\n",
            " - [ ] **B.3 Data retention plan**: Is there a schedule or plan to delete the data after it is no longer needed?\n",
            "\n",
            "## C. Analysis\n",
            " - [ ] **C.1 Missing perspectives**: Have we sought to address blindspots in the analysis through engagement with relevant stakeholders (e.g., checking assumptions and discussing implications with affected communities and subject matter experts)?\n",
            " - [ ] **C.2 Dataset bias**: Have we examined the data for possible sources of bias and taken steps to mitigate or address these biases (e.g., stereotype perpetuation, confirmation bias, imbalanced classes, or omitted confounding variables)?\n",
            " - [ ] **C.3 Honest representation**: Are our visualizations, summary statistics, and reports designed to honestly represent the underlying data?\n",
            " - [ ] **C.4 Privacy in analysis**: Have we ensured that data with PII are not used or displayed unless necessary for the analysis?\n",
            " - [ ] **C.5 Auditability**: Is the process of generating the analysis well documented and reproducible if we discover issues in the future?\n",
            "\n",
            "## D. Modeling\n",
            " - [ ] **D.1 Proxy discrimination**: Have we ensured that the model does not rely on variables or proxies for variables that are unfairly discriminatory?\n",
            " - [ ] **D.2 Fairness across groups**: Have we tested model results for fairness with respect to different affected groups (e.g., tested for disparate error rates)?\n",
            " - [ ] **D.3 Metric selection**: Have we considered the effects of optimizing for our defined metrics and considered additional metrics?\n",
            " - [ ] **D.4 Explainability**: Can we explain in understandable terms a decision the model made in cases where a justification is needed?\n",
            " - [ ] **D.5 Communicate bias**: Have we communicated the shortcomings, limitations, and biases of the model to relevant stakeholders in ways that can be generally understood?\n",
            "\n",
            "## E. Deployment\n",
            " - [ ] **E.1 Redress**: Have we discussed with our organization a plan for response if users are harmed by the results (e.g., how does the data science team evaluate these cases and update analysis and models to prevent future harm)?\n",
            " - [ ] **E.2 Roll back**: Is there a way to turn off or roll back the model in production if necessary?\n",
            " - [ ] **E.3 Concept drift**: Do we test and monitor for concept drift to ensure the model remains fair over time?\n",
            " - [ ] **E.4 Unintended use**: Have we taken steps to identify and prevent unintended uses and abuse of the model and do we have a plan to monitor these once the model is deployed?\n",
            "\n",
            "*Data Science Ethics Checklist generated with [deon](http://deon.drivendata.org).*\n"
          ]
        }
      ]
    },
    {
      "cell_type": "markdown",
      "source": [
        "#Ethics DataCard"
      ],
      "metadata": {
        "id": "jRoTWPZtAbLf"
      }
    },
    {
      "cell_type": "code",
      "source": [
        "!pip install gradio\n",
        "import gradio as gr\n",
        "\n",
        "# Ethics DataCard content for catalyst performance during dry methane reforming prediction model\n",
        "datacard_content = \"\"\"\n",
        "# Ethics DataCard for catalyst performance during dry methane reforming prediction model\n",
        "\n",
        "## Dataset Overview\n",
        "- **Input Variables**: Reaction Temperature, GHSV, Ni Loading, Surface Area, Reaction Time, Pore Size, Pore Volume, H2-TPR Peak Temperature, Ni Particle Size, Ni Dispersion, Modifier Electronegativity\n",
        "- **Output Variables**: Syngas_Ratio, CO2 Conversion, CH4 Conversion,\n",
        "\n",
        "\n",
        "## Data Collection Process\n",
        "- Data was sourced from research paper with experimental data shared by the course instructor. So, it is an publicly available data.\n",
        "- Data is collected from public sources, ensuring proper consent.\n",
        "\n",
        "## Bias Considerations\n",
        "- **Potential Bias**: There does not seem to be any noticeable bias.\n",
        "- **Mitigation**: The model is designed to minimize biases by cross-referencing multiple data sources and continuously monitoring the data collection process to ensure it includes diverse geographic regions.\n",
        "\n",
        "## Fairness & Justice\n",
        "- The model has been trained to predict catalyst performance for dry reforming of methane. The catalyst is novel and it calls for further performance test for other catalyst leveraging the parameters used here.\n",
        "- Special attention has been given to reducing false positives (catalyst poisoning) and false negatives (failure to predict real catalyst performance), balancing the risk for all stakeholders.\n",
        "\n",
        "## Privacy and Security\n",
        "- Open access public data are used, with efforts to anonymize any personal information inadvertently captured (e.g., authors' names and institutions where the research was conducted).\n",
        "- No social media or surveillance data is used without explicit consent.\n",
        "\n",
        "## Sustainability and Environmental Impact\n",
        "- The model aims to add to efforts for transitioning to sustainable chemical engineering strategies by prediction of catalyst performance in dry reforming and saves unnecessary expenditures of time, chemicals and equipment lifespan.\n",
        "- It supports long-term environmental sustainability by informing decisions pertaining to choice and design of catalyst for dry reforming of methane.\n",
        "\n",
        "## Model Limitations\n",
        "- The model's accuracy may vary depending on the region and the quality of data available.\n",
        "- There might be limitations to predicting catalysts in due operational contigencies, leading to potential inaccuracies.\n",
        "- The model is regularly updated to incorporate new catalyst performance data.\n",
        "\n",
        "## Accountability and Transparency\n",
        "- The development team will monitor the model for performance over time, ensuring that it adapts to new data and environmental shifts.\n",
        "- Stakeholders (e.g., industry partners, researchers and students) will be informed of the model’s limitations, ensuring proper interpretation of the predictions.\n",
        "- False predictions will be communicated to stakeholders, with a process in place for continuous feedback and model improvement.\n",
        "\n",
        "## Societal Impact\n",
        "- The model is designed for the purpose of process optimization and to save the ennvironment by conversion of greenhouse gases into useful chemicals by enabling a circular economy.\n",
        "- It has the potential to inform policy changes in environmental sustainability and industrialization plans of government.\n",
        "\"\"\"\n",
        "\n",
        "# Function to display the DataCard\n",
        "def display_datacard():\n",
        "    return datacard_content\n",
        "\n",
        "# Gradio interface to display the ethics DataCard\n",
        "iface = gr.Interface(fn=display_datacard, inputs=[], outputs=\"markdown\")\n",
        "\n",
        "# Launch the Gradio interface\n",
        "iface.launch()"
      ],
      "metadata": {
        "colab": {
          "base_uri": "https://localhost:8080/",
          "height": 1000
        },
        "id": "gmAjq7MkAhjt",
        "outputId": "e33a3005-66ab-488b-a3c7-24f29a6a0cba"
      },
      "execution_count": 7,
      "outputs": [
        {
          "output_type": "stream",
          "name": "stdout",
          "text": [
            "Requirement already satisfied: gradio in /usr/local/lib/python3.10/dist-packages (5.6.0)\n",
            "Requirement already satisfied: aiofiles<24.0,>=22.0 in /usr/local/lib/python3.10/dist-packages (from gradio) (23.2.1)\n",
            "Requirement already satisfied: anyio<5.0,>=3.0 in /usr/local/lib/python3.10/dist-packages (from gradio) (3.7.1)\n",
            "Requirement already satisfied: fastapi<1.0,>=0.115.2 in /usr/local/lib/python3.10/dist-packages (from gradio) (0.115.5)\n",
            "Requirement already satisfied: ffmpy in /usr/local/lib/python3.10/dist-packages (from gradio) (0.4.0)\n",
            "Requirement already satisfied: gradio-client==1.4.3 in /usr/local/lib/python3.10/dist-packages (from gradio) (1.4.3)\n",
            "Requirement already satisfied: httpx>=0.24.1 in /usr/local/lib/python3.10/dist-packages (from gradio) (0.27.2)\n",
            "Requirement already satisfied: huggingface-hub>=0.25.1 in /usr/local/lib/python3.10/dist-packages (from gradio) (0.26.2)\n",
            "Requirement already satisfied: jinja2<4.0 in /usr/local/lib/python3.10/dist-packages (from gradio) (3.1.4)\n",
            "Requirement already satisfied: markupsafe~=2.0 in /usr/local/lib/python3.10/dist-packages (from gradio) (2.1.5)\n",
            "Requirement already satisfied: numpy<3.0,>=1.0 in /usr/local/lib/python3.10/dist-packages (from gradio) (1.26.4)\n",
            "Requirement already satisfied: orjson~=3.0 in /usr/local/lib/python3.10/dist-packages (from gradio) (3.10.11)\n",
            "Requirement already satisfied: packaging in /usr/local/lib/python3.10/dist-packages (from gradio) (24.2)\n",
            "Requirement already satisfied: pandas<3.0,>=1.0 in /usr/local/lib/python3.10/dist-packages (from gradio) (2.2.2)\n",
            "Requirement already satisfied: pillow<12.0,>=8.0 in /usr/local/lib/python3.10/dist-packages (from gradio) (11.0.0)\n",
            "Requirement already satisfied: pydantic>=2.0 in /usr/local/lib/python3.10/dist-packages (from gradio) (2.9.2)\n",
            "Requirement already satisfied: pydub in /usr/local/lib/python3.10/dist-packages (from gradio) (0.25.1)\n",
            "Requirement already satisfied: python-multipart==0.0.12 in /usr/local/lib/python3.10/dist-packages (from gradio) (0.0.12)\n",
            "Requirement already satisfied: pyyaml<7.0,>=5.0 in /usr/local/lib/python3.10/dist-packages (from gradio) (6.0.2)\n",
            "Requirement already satisfied: ruff>=0.2.2 in /usr/local/lib/python3.10/dist-packages (from gradio) (0.8.0)\n",
            "Requirement already satisfied: safehttpx<1.0,>=0.1.1 in /usr/local/lib/python3.10/dist-packages (from gradio) (0.1.1)\n",
            "Requirement already satisfied: semantic-version~=2.0 in /usr/local/lib/python3.10/dist-packages (from gradio) (2.10.0)\n",
            "Requirement already satisfied: starlette<1.0,>=0.40.0 in /usr/local/lib/python3.10/dist-packages (from gradio) (0.41.3)\n",
            "Requirement already satisfied: tomlkit==0.12.0 in /usr/local/lib/python3.10/dist-packages (from gradio) (0.12.0)\n",
            "Requirement already satisfied: typer<1.0,>=0.12 in /usr/local/lib/python3.10/dist-packages (from gradio) (0.13.0)\n",
            "Requirement already satisfied: typing-extensions~=4.0 in /usr/local/lib/python3.10/dist-packages (from gradio) (4.12.2)\n",
            "Requirement already satisfied: uvicorn>=0.14.0 in /usr/local/lib/python3.10/dist-packages (from gradio) (0.32.1)\n",
            "Requirement already satisfied: fsspec in /usr/local/lib/python3.10/dist-packages (from gradio-client==1.4.3->gradio) (2024.10.0)\n",
            "Requirement already satisfied: websockets<13.0,>=10.0 in /usr/local/lib/python3.10/dist-packages (from gradio-client==1.4.3->gradio) (12.0)\n",
            "Requirement already satisfied: idna>=2.8 in /usr/local/lib/python3.10/dist-packages (from anyio<5.0,>=3.0->gradio) (3.10)\n",
            "Requirement already satisfied: sniffio>=1.1 in /usr/local/lib/python3.10/dist-packages (from anyio<5.0,>=3.0->gradio) (1.3.1)\n",
            "Requirement already satisfied: exceptiongroup in /usr/local/lib/python3.10/dist-packages (from anyio<5.0,>=3.0->gradio) (1.2.2)\n",
            "Requirement already satisfied: certifi in /usr/local/lib/python3.10/dist-packages (from httpx>=0.24.1->gradio) (2024.8.30)\n",
            "Requirement already satisfied: httpcore==1.* in /usr/local/lib/python3.10/dist-packages (from httpx>=0.24.1->gradio) (1.0.7)\n",
            "Requirement already satisfied: h11<0.15,>=0.13 in /usr/local/lib/python3.10/dist-packages (from httpcore==1.*->httpx>=0.24.1->gradio) (0.14.0)\n",
            "Requirement already satisfied: filelock in /usr/local/lib/python3.10/dist-packages (from huggingface-hub>=0.25.1->gradio) (3.16.1)\n",
            "Requirement already satisfied: requests in /usr/local/lib/python3.10/dist-packages (from huggingface-hub>=0.25.1->gradio) (2.32.3)\n",
            "Requirement already satisfied: tqdm>=4.42.1 in /usr/local/lib/python3.10/dist-packages (from huggingface-hub>=0.25.1->gradio) (4.66.6)\n",
            "Requirement already satisfied: python-dateutil>=2.8.2 in /usr/local/lib/python3.10/dist-packages (from pandas<3.0,>=1.0->gradio) (2.8.2)\n",
            "Requirement already satisfied: pytz>=2020.1 in /usr/local/lib/python3.10/dist-packages (from pandas<3.0,>=1.0->gradio) (2024.2)\n",
            "Requirement already satisfied: tzdata>=2022.7 in /usr/local/lib/python3.10/dist-packages (from pandas<3.0,>=1.0->gradio) (2024.2)\n",
            "Requirement already satisfied: annotated-types>=0.6.0 in /usr/local/lib/python3.10/dist-packages (from pydantic>=2.0->gradio) (0.7.0)\n",
            "Requirement already satisfied: pydantic-core==2.23.4 in /usr/local/lib/python3.10/dist-packages (from pydantic>=2.0->gradio) (2.23.4)\n",
            "Requirement already satisfied: click>=8.0.0 in /usr/local/lib/python3.10/dist-packages (from typer<1.0,>=0.12->gradio) (8.1.7)\n",
            "Requirement already satisfied: shellingham>=1.3.0 in /usr/local/lib/python3.10/dist-packages (from typer<1.0,>=0.12->gradio) (1.5.4)\n",
            "Requirement already satisfied: rich>=10.11.0 in /usr/local/lib/python3.10/dist-packages (from typer<1.0,>=0.12->gradio) (13.9.4)\n",
            "Requirement already satisfied: six>=1.5 in /usr/local/lib/python3.10/dist-packages (from python-dateutil>=2.8.2->pandas<3.0,>=1.0->gradio) (1.16.0)\n",
            "Requirement already satisfied: markdown-it-py>=2.2.0 in /usr/local/lib/python3.10/dist-packages (from rich>=10.11.0->typer<1.0,>=0.12->gradio) (3.0.0)\n",
            "Requirement already satisfied: pygments<3.0.0,>=2.13.0 in /usr/local/lib/python3.10/dist-packages (from rich>=10.11.0->typer<1.0,>=0.12->gradio) (2.18.0)\n",
            "Requirement already satisfied: charset-normalizer<4,>=2 in /usr/local/lib/python3.10/dist-packages (from requests->huggingface-hub>=0.25.1->gradio) (3.4.0)\n",
            "Requirement already satisfied: urllib3<3,>=1.21.1 in /usr/local/lib/python3.10/dist-packages (from requests->huggingface-hub>=0.25.1->gradio) (2.2.3)\n",
            "Requirement already satisfied: mdurl~=0.1 in /usr/local/lib/python3.10/dist-packages (from markdown-it-py>=2.2.0->rich>=10.11.0->typer<1.0,>=0.12->gradio) (0.1.2)\n",
            "Running Gradio in a Colab notebook requires sharing enabled. Automatically setting `share=True` (you can turn this off by setting `share=False` in `launch()` explicitly).\n",
            "\n",
            "Colab notebook detected. To show errors in colab notebook, set debug=True in launch()\n",
            "* Running on public URL: https://ec0da677b1b0f15117.gradio.live\n",
            "\n",
            "This share link expires in 72 hours. For free permanent hosting and GPU upgrades, run `gradio deploy` from the terminal in the working directory to deploy to Hugging Face Spaces (https://huggingface.co/spaces)\n"
          ]
        },
        {
          "output_type": "display_data",
          "data": {
            "text/plain": [
              "<IPython.core.display.HTML object>"
            ],
            "text/html": [
              "<div><iframe src=\"https://ec0da677b1b0f15117.gradio.live\" width=\"100%\" height=\"500\" allow=\"autoplay; camera; microphone; clipboard-read; clipboard-write;\" frameborder=\"0\" allowfullscreen></iframe></div>"
            ]
          },
          "metadata": {}
        },
        {
          "output_type": "execute_result",
          "data": {
            "text/plain": []
          },
          "metadata": {},
          "execution_count": 7
        }
      ]
    }
  ]
}